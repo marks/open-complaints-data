{
 "cells": [
  {
   "cell_type": "markdown",
   "metadata": {},
   "source": [
    "# Comparing FCC & CFPB Complaint Data\n",
    "\n",
    "by Mark Silverberg ([@Skram](https://twitter.com/skram)) <mark.silverberg@socrata.com>"
   ]
  },
  {
   "cell_type": "code",
   "execution_count": 182,
   "metadata": {
    "collapsed": false
   },
   "outputs": [],
   "source": [
    "# dependencies and variables\n",
    "\n",
    "## dependencies\n",
    "\n",
    "### for data analysis\n",
    "import pandas as pd\n",
    "import numpy as np\n",
    "import urllib\n",
    "\n",
    "### for plotly plotting\n",
    "import plotly.plotly as py\n",
    "py.sign_in('skram', 'hyvvquuy99') # dummy API account\n",
    "\n",
    "### for Census querying\n",
    "from census import Census\n",
    "from us import states\n",
    "census = Census(\"5a2c0815756ebbf53b2a9bd18a348aea0709eb06\") # dummy API account\n",
    "\n",
    "### for iPython displaying\n",
    "from IPython.display import display, Image, HTML\n",
    "\n",
    "## variables\n",
    "variables = {\n",
    "    \"date_received\":{\n",
    "        \"fcc\":\"ticket_created\",\n",
    "        \"cfpb\":\"date_received\"\n",
    "    },\n",
    "    \"state\":{\n",
    "        \"fcc\":\"state\",\n",
    "        \"cfpb\":\"state\"\n",
    "    },\n",
    "    \"endpoint\":{\n",
    "        \"fcc\":\"https://opendata.fcc.gov/resource/sr6c-syda.json\",\n",
    "        \"cfpb\":\"https://data.consumerfinance.gov/resource/jhzv-w97w.json\"\n",
    "    }\n",
    "}\n",
    "provider_keys = variables['endpoint'].keys()\n",
    "\n",
    "query_templates = { # always make sure there is a LIMIT statement with a {n} variable\n",
    "    'count_by_state':{\n",
    "        \"template\":\"SELECT {0} as state, count(*) as complaints GROUP BY {0} LIMIT {1}\",\n",
    "        \"variables\":[\"state\"]\n",
    "    },\n",
    "#     'count_by_month_and_state':{\n",
    "#         \"template\":\"SELECT {0} as state, date_trunc_ym({1}) as date_received, count(*) GROUP BY {0}, {1} ORDER BY date_received LIMIT {2}\",\n",
    "#         \"variables\":[\"state\",\"date_received\"]\n",
    "#     }\n",
    "}\n",
    "query_template_keys = query_templates.keys()\n",
    "\n",
    "a_big_number = 10000000 # for SODA query limits"
   ]
  },
  {
   "cell_type": "code",
   "execution_count": 183,
   "metadata": {
    "collapsed": false
   },
   "outputs": [],
   "source": [
    "# helper functions\n",
    "\n",
    "## function to marry a query template and provider's normalized variables into an API query string\n",
    "def form_query_url(template,provider):\n",
    "    base_url = variables['endpoint'][provider]\n",
    "    query_template = query_templates[template]\n",
    "    \n",
    "    # form array of variables for the query template\n",
    "    format_variables = []\n",
    "    for variable in query_template['variables']:\n",
    "        format_variables.append(variables[variable][provider])\n",
    "    format_variables.append(a_big_number) \n",
    "\n",
    "    # put template and format_variables together\n",
    "    query_str = query_template['template'].format(*format_variables)\n",
    "    return \"{0}?$query={1}\".format(base_url, urllib.quote(query_str))\n",
    "\n",
    "def us_state_choropleth(df,col_to_color_by,units,title):\n",
    "    plotly_data = [ dict(\n",
    "        type='choropleth',\n",
    "        autocolorscale = True,\n",
    "        locations = df['state'],\n",
    "        z = df[col_to_color_by],\n",
    "        locationmode = 'USA-states',\n",
    "        marker = dict(\n",
    "            line = dict (\n",
    "                color = 'rgb(255,255,255)',\n",
    "                width = 2\n",
    "            )\n",
    "        ),\n",
    "        colorbar = dict(\n",
    "            title = units\n",
    "        )\n",
    "    ) ]\n",
    "    plotly_layout = dict(\n",
    "            title = title,\n",
    "            geo = dict(\n",
    "                scope='usa',\n",
    "                projection=dict( type='albers usa' ),\n",
    "            ),\n",
    "        )\n",
    "    fig = dict( data=plotly_data, layout=plotly_layout )\n",
    "    return fig\n"
   ]
  },
  {
   "cell_type": "code",
   "execution_count": 184,
   "metadata": {
    "collapsed": false
   },
   "outputs": [],
   "source": [
    "# get state population from Census\n",
    "\n",
    "## consistent with Census Fact Finder 'TOTAL POPULATION / Universe: Total population / 2009-2013 American Community Survey 5-Year Estimates'\n",
    "pop_est_table_id = 'B01003_001E'\n",
    "state_populations = census.acs.state(('NAME',pop_est_table_id), Census.ALL, year=2013) # http://1.usa.gov/1RAhxWq\n",
    "\n",
    "## create lookup dictionary of population\n",
    "state_population_lookup = dict()\n",
    "for row in state_populations:\n",
    "    state = states.lookup(row['state']).abbr\n",
    "    pop = row[pop_est_table_id]\n",
    "    state_population_lookup[state] = pop\n",
    "\n",
    "## function used with df.apply to normalize count per 100,000 popualation\n",
    "def normalize_for_pop(row):\n",
    "    pop = state_population_lookup.get(row['state'], None)\n",
    "    if pop != None:\n",
    "        rate = (int(row['complaints']) / float(pop))*100000\n",
    "    else:\n",
    "        print \"** state={0} isnt in state_population_lookup and wont have a rate calculated for it\".format(row['state'])\n",
    "        rate = None\n",
    "    return rate"
   ]
  },
  {
   "cell_type": "code",
   "execution_count": 185,
   "metadata": {
    "collapsed": false
   },
   "outputs": [
    {
     "name": "stdout",
     "output_type": "stream",
     "text": [
      "Fetching count_by_state for cfpb at https://data.consumerfinance.gov/resource/jhzv-w97w.json?$query=SELECT%20state%20as%20state%2C%20count%28%2A%29%20as%20complaints%20GROUP%20BY%20state%20LIMIT%2010000000\n",
      "Fetching count_by_state for fcc at https://opendata.fcc.gov/resource/sr6c-syda.json?$query=SELECT%20state%20as%20state%2C%20count%28%2A%29%20as%20complaints%20GROUP%20BY%20state%20LIMIT%2010000000\n"
     ]
    }
   ],
   "source": [
    "# fetch the data \n",
    "\n",
    "data = dict()\n",
    "\n",
    "## fetch data for all query templates and providers\n",
    "for template in query_template_keys:\n",
    "    data[template] = {}\n",
    "    for provider in provider_keys:\n",
    "        url = form_query_url(template,provider)\n",
    "        print \"Fetching {0} for {1} at {2}\".format(template,provider,url)\n",
    "        data[template][provider] = pd.read_json(url)"
   ]
  },
  {
   "cell_type": "code",
   "execution_count": 186,
   "metadata": {
    "collapsed": false,
    "scrolled": true
   },
   "outputs": [
    {
     "name": "stdout",
     "output_type": "stream",
     "text": [
      "Some summary data and graphics:\n",
      " - count_by_state for cfpb has 63 rows for a total of 572997 complaints\n",
      " - count_by_state for fcc has 57 rows for a total of 488228 complaints\n"
     ]
    },
    {
     "data": {
      "text/html": [
       "<h2 style='text-align: center;'>Total # of Complaints per Data Source</h2><table><tr><td><img src=\"images/pyimage_count_by_state-cfpb.png\" alt=\"pyimage_count_by_state-cfpb.png\" /></td><td><img src=\"images/pyimage_count_by_state-fcc.png\" alt=\"pyimage_count_by_state-fcc.png\" /></td></tr></table>"
      ],
      "text/plain": [
       "<IPython.core.display.HTML object>"
      ]
     },
     "metadata": {},
     "output_type": "display_data"
    }
   ],
   "source": [
    "images_to_display = []\n",
    "\n",
    "print \"Some summary data and graphics:\"\n",
    "\n",
    "template = 'count_by_state'\n",
    "for provider in provider_keys:\n",
    "    d = data[template][provider]\n",
    "    print \" - {0} for {1} has {2} rows for a total of {3} complaints\".format(template, provider, len(d), d['complaints'].sum())\n",
    "\n",
    "    fig = us_state_choropleth(d,'complaints','Number of Complaints','{0} Complaints by State'.format(provider.upper()))\n",
    "    image_name = 'pyimage_{0}-{1}.png'.format(template, provider)\n",
    "    py.image.save_as(fig, 'images/'+image_name)\n",
    "    images_to_display.append(image_name)\n",
    "\n",
    "counts_by_state_html = \"<h2 style='text-align: center;'>Total # of Complaints per Data Source</h2><table><tr>\"\n",
    "for image_path in images_to_display:\n",
    "    counts_by_state_html += '<td><img src=\"images/{0}\" alt=\"{0}\" /></td>'.format(image_path)\n",
    "counts_by_state_html += \"</tr></table>\"\n",
    "\n",
    "display(HTML(counts_by_state_html))"
   ]
  },
  {
   "cell_type": "code",
   "execution_count": 187,
   "metadata": {
    "collapsed": false
   },
   "outputs": [
    {
     "name": "stdout",
     "output_type": "stream",
     "text": [
      "** state=AA isnt in state_population_lookup and wont have a rate calculated for it\n",
      "** state=AE isnt in state_population_lookup and wont have a rate calculated for it\n",
      "** state=AP isnt in state_population_lookup and wont have a rate calculated for it\n",
      "** state=AS isnt in state_population_lookup and wont have a rate calculated for it\n",
      "** state=FM isnt in state_population_lookup and wont have a rate calculated for it\n",
      "** state=GU isnt in state_population_lookup and wont have a rate calculated for it\n",
      "** state=MH isnt in state_population_lookup and wont have a rate calculated for it\n",
      "** state=MP isnt in state_population_lookup and wont have a rate calculated for it\n",
      "** state=PW isnt in state_population_lookup and wont have a rate calculated for it\n",
      "** state=VI isnt in state_population_lookup and wont have a rate calculated for it\n",
      "** state=nan isnt in state_population_lookup and wont have a rate calculated for it\n",
      "** state=AS isnt in state_population_lookup and wont have a rate calculated for it\n",
      "** state=GU isnt in state_population_lookup and wont have a rate calculated for it\n",
      "** state=MP isnt in state_population_lookup and wont have a rate calculated for it\n",
      "** state=VI isnt in state_population_lookup and wont have a rate calculated for it\n",
      "** state=nan isnt in state_population_lookup and wont have a rate calculated for it\n"
     ]
    },
    {
     "data": {
      "text/html": [
       "<h2 style='text-align: center;'>Normalized # of Complaints per 100k population per Data Source</h2><table><tr><td><img src=\"images/pyimage_count_by_state-cfpb-per100k.png\" alt=\"pyimage_count_by_state-cfpb-per100k.png\" /></td><td><img src=\"images/pyimage_count_by_state-fcc-per100k.png\" alt=\"pyimage_count_by_state-fcc-per100k.png\" /></td></tr></table>"
      ],
      "text/plain": [
       "<IPython.core.display.HTML object>"
      ]
     },
     "metadata": {},
     "output_type": "display_data"
    }
   ],
   "source": [
    "# Normalized complaint counts per 100k population\n",
    "\n",
    "images_to_display = []\n",
    "\n",
    "template = 'count_by_state'\n",
    "for provider in provider_keys:\n",
    "    d = data[template][provider]\n",
    "    d['complaint_rate_per_100k_pop'] = d.apply(normalize_for_pop, axis=1)\n",
    "\n",
    "    fig = us_state_choropleth(d,'complaint_rate_per_100k_pop','Complaints Per 100k Pop.','{0} Complaints by State (per 100k population)'.format(provider.upper()))\n",
    "    # py.iplot( fig, filename='d3-cloropleth-map' )\n",
    "    image_name = 'pyimage_{0}-{1}-per100k.png'.format(template, provider)\n",
    "    py.image.save_as(fig, 'images/'+image_name)\n",
    "    images_to_display.append(image_name)\n",
    "\n",
    "counts_by_state_html = \"<h2 style='text-align: center;'>Normalized # of Complaints per 100k population per Data Source</h2><table><tr>\"\n",
    "for image_path in images_to_display:\n",
    "    counts_by_state_html += '<td><img src=\"images/{0}\" alt=\"{0}\" /></td>'.format(image_path)\n",
    "counts_by_state_html += \"</tr></table>\"\n",
    "\n",
    "display(HTML(counts_by_state_html))"
   ]
  },
  {
   "cell_type": "code",
   "execution_count": 188,
   "metadata": {
    "collapsed": false
   },
   "outputs": [
    {
     "data": {
      "text/html": [
       "<div>\n",
       "<table border=\"1\" class=\"dataframe\">\n",
       "  <thead>\n",
       "    <tr style=\"text-align: right;\">\n",
       "      <th></th>\n",
       "      <th>complaints</th>\n",
       "      <th>state</th>\n",
       "      <th>complaint_rate_per_100k_pop</th>\n",
       "    </tr>\n",
       "  </thead>\n",
       "  <tbody>\n",
       "    <tr>\n",
       "      <th>8</th>\n",
       "      <td>2314</td>\n",
       "      <td>DC</td>\n",
       "      <td>373.604835</td>\n",
       "    </tr>\n",
       "    <tr>\n",
       "      <th>22</th>\n",
       "      <td>17308</td>\n",
       "      <td>MD</td>\n",
       "      <td>296.659462</td>\n",
       "    </tr>\n",
       "    <tr>\n",
       "      <th>6</th>\n",
       "      <td>11860</td>\n",
       "      <td>CO</td>\n",
       "      <td>231.670987</td>\n",
       "    </tr>\n",
       "    <tr>\n",
       "      <th>10</th>\n",
       "      <td>39827</td>\n",
       "      <td>FL</td>\n",
       "      <td>208.614921</td>\n",
       "    </tr>\n",
       "    <tr>\n",
       "      <th>52</th>\n",
       "      <td>14014</td>\n",
       "      <td>WA</td>\n",
       "      <td>205.496556</td>\n",
       "    </tr>\n",
       "  </tbody>\n",
       "</table>\n",
       "</div>"
      ],
      "text/plain": [
       "    complaints state  complaint_rate_per_100k_pop\n",
       "8         2314    DC                   373.604835\n",
       "22       17308    MD                   296.659462\n",
       "6        11860    CO                   231.670987\n",
       "10       39827    FL                   208.614921\n",
       "52       14014    WA                   205.496556"
      ]
     },
     "execution_count": 188,
     "metadata": {},
     "output_type": "execute_result"
    }
   ],
   "source": [
    "data['count_by_state']['fcc'].sort_values('complaint_rate_per_100k_pop', ascending=False).head(5)"
   ]
  },
  {
   "cell_type": "code",
   "execution_count": 189,
   "metadata": {
    "collapsed": false
   },
   "outputs": [
    {
     "data": {
      "text/html": [
       "<div>\n",
       "<table border=\"1\" class=\"dataframe\">\n",
       "  <thead>\n",
       "    <tr style=\"text-align: right;\">\n",
       "      <th></th>\n",
       "      <th>complaints</th>\n",
       "      <th>state</th>\n",
       "      <th>complaint_rate_per_100k_pop</th>\n",
       "    </tr>\n",
       "  </thead>\n",
       "  <tbody>\n",
       "    <tr>\n",
       "      <th>11</th>\n",
       "      <td>3332</td>\n",
       "      <td>DC</td>\n",
       "      <td>537.965129</td>\n",
       "    </tr>\n",
       "    <tr>\n",
       "      <th>12</th>\n",
       "      <td>3006</td>\n",
       "      <td>DE</td>\n",
       "      <td>330.894737</td>\n",
       "    </tr>\n",
       "    <tr>\n",
       "      <th>26</th>\n",
       "      <td>18256</td>\n",
       "      <td>MD</td>\n",
       "      <td>312.908200</td>\n",
       "    </tr>\n",
       "    <tr>\n",
       "      <th>13</th>\n",
       "      <td>55372</td>\n",
       "      <td>FL</td>\n",
       "      <td>290.040058</td>\n",
       "    </tr>\n",
       "    <tr>\n",
       "      <th>39</th>\n",
       "      <td>23139</td>\n",
       "      <td>NJ</td>\n",
       "      <td>261.978446</td>\n",
       "    </tr>\n",
       "  </tbody>\n",
       "</table>\n",
       "</div>"
      ],
      "text/plain": [
       "    complaints state  complaint_rate_per_100k_pop\n",
       "11        3332    DC                   537.965129\n",
       "12        3006    DE                   330.894737\n",
       "26       18256    MD                   312.908200\n",
       "13       55372    FL                   290.040058\n",
       "39       23139    NJ                   261.978446"
      ]
     },
     "execution_count": 189,
     "metadata": {},
     "output_type": "execute_result"
    }
   ],
   "source": [
    "data['count_by_state']['cfpb'].sort_values('complaint_rate_per_100k_pop', ascending=False).head(5)"
   ]
  },
  {
   "cell_type": "code",
   "execution_count": 190,
   "metadata": {
    "collapsed": false
   },
   "outputs": [
    {
     "name": "stdout",
     "output_type": "stream",
     "text": [
      "74605\n"
     ]
    }
   ],
   "source": [
    "from textblob import TextBlob # read http://planspace.org/20150607-textblob_sentiment/ for a good overview\n",
    "\n",
    "# fetch all CFPB complaints and their associated state\n",
    "url = variables['endpoint']['cfpb']+\"?$query=\"+urllib.quote(\"SELECT state, complaint_what_happened WHERE state IS NOT NULL AND complaint_what_happened IS NOT NULL LIMIT {0}\".format(a_big_number))\n",
    "all_cfpb = pd.read_json(url)\n",
    "print len(all_cfpb)"
   ]
  },
  {
   "cell_type": "code",
   "execution_count": 193,
   "metadata": {
    "collapsed": false
   },
   "outputs": [],
   "source": [
    "def sentiment_polarity(row):\n",
    "    blob = TextBlob(row['complaint_what_happened'])\n",
    "    blob_sentiment = blob.sentiment\n",
    "    return blob_sentiment.polarity\n",
    "\n",
    "def sentiment_subjectivity(row):\n",
    "    blob = TextBlob(row['complaint_what_happened'])\n",
    "    blob_sentiment = blob.sentiment\n",
    "    return blob_sentiment.subjectivity\n",
    "\n",
    "all_cfpb['polarity'] = all_cfpb.apply(sentiment_polarity, axis=1) # -1 to 1 (neg to pos)\n",
    "all_cfpb['subjectivity'] = all_cfpb.apply(sentiment_subjectivity, axis=1) # 0 to 1 (_ to subjective)\n",
    "\n"
   ]
  },
  {
   "cell_type": "code",
   "execution_count": 198,
   "metadata": {
    "collapsed": false
   },
   "outputs": [],
   "source": [
    "# get average by state\n",
    "cfpb_state_avgs = all_cfpb.groupby(['state']).mean()\n",
    "\n",
    "# hacks because of Mark's pandas newbness\n",
    "from StringIO import StringIO\n",
    "csv = cfpb_state_avgs.to_csv()\n",
    "CSV_DATA=StringIO(csv)\n",
    "cfpb_state_avgs = pd.read_csv(CSV_DATA)"
   ]
  },
  {
   "cell_type": "code",
   "execution_count": 199,
   "metadata": {
    "collapsed": false
   },
   "outputs": [
    {
     "data": {
      "text/html": [
       "<iframe id=\"igraph\" scrolling=\"no\" style=\"border:none;\" seamless=\"seamless\" src=\"https://plot.ly/~skram/39.embed\" height=\"525px\" width=\"100%\"></iframe>"
      ],
      "text/plain": [
       "<plotly.tools.PlotlyDisplay object>"
      ]
     },
     "execution_count": 199,
     "metadata": {},
     "output_type": "execute_result"
    }
   ],
   "source": [
    "fig = us_state_choropleth(cfpb_state_avgs,'polarity','Polarity','Average Polarity of CFPB Complaints by State<br />(-1=negative to 1=positive)')\n",
    "py.iplot( fig, filename='d3-cloropleth-map' )"
   ]
  },
  {
   "cell_type": "code",
   "execution_count": 196,
   "metadata": {
    "collapsed": false
   },
   "outputs": [
    {
     "data": {
      "text/html": [
       "<iframe id=\"igraph\" scrolling=\"no\" style=\"border:none;\" seamless=\"seamless\" src=\"https://plot.ly/~skram/39.embed\" height=\"525px\" width=\"100%\"></iframe>"
      ],
      "text/plain": [
       "<plotly.tools.PlotlyDisplay object>"
      ]
     },
     "execution_count": 196,
     "metadata": {},
     "output_type": "execute_result"
    }
   ],
   "source": [
    "fig = us_state_choropleth(cfpb_state_avgs,'subjectivity','Subjectivity','Average Subjectivity of CFPB Complaints by State<br />(0=less subjective to 1=most subjective)')\n",
    "py.iplot( fig, filename='d3-cloropleth-map' )"
   ]
  },
  {
   "cell_type": "code",
   "execution_count": null,
   "metadata": {
    "collapsed": true
   },
   "outputs": [],
   "source": []
  }
 ],
 "metadata": {
  "kernelspec": {
   "display_name": "Python 2 (Ubuntu, plain)",
   "language": "python",
   "name": "python2-ubuntu"
  },
  "language_info": {
   "codemirror_mode": {
    "name": "ipython",
    "version": 2
   },
   "file_extension": ".py",
   "mimetype": "text/x-python",
   "name": "python",
   "nbconvert_exporter": "python",
   "pygments_lexer": "ipython2",
   "version": "2.7.10"
  }
 },
 "nbformat": 4,
 "nbformat_minor": 0
}
